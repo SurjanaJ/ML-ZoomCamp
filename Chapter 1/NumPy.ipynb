{
 "cells": [
  {
   "cell_type": "code",
   "execution_count": 5,
   "id": "91c3704d",
   "metadata": {
    "scrolled": true
   },
   "outputs": [],
   "source": [
    "import numpy as np"
   ]
  },
  {
   "cell_type": "markdown",
   "id": "848bfd30",
   "metadata": {},
   "source": [
    "# Introduction to NumPY"
   ]
  },
  {
   "cell_type": "markdown",
   "id": "e54f2512",
   "metadata": {},
   "source": [
    "Creating an array of predefined size with zeros and ones"
   ]
  },
  {
   "cell_type": "code",
   "execution_count": 8,
   "id": "e615d064",
   "metadata": {},
   "outputs": [
    {
     "data": {
      "text/plain": [
       "array([0., 0., 0., 0., 0.])"
      ]
     },
     "execution_count": 8,
     "metadata": {},
     "output_type": "execute_result"
    }
   ],
   "source": [
    "zeros = np.zeros(5)\n",
    "zeros"
   ]
  },
  {
   "cell_type": "code",
   "execution_count": 10,
   "id": "852279cf",
   "metadata": {},
   "outputs": [
    {
     "data": {
      "text/plain": [
       "array([1., 1., 1., 1., 1., 1., 1., 1., 1., 1.])"
      ]
     },
     "execution_count": 10,
     "metadata": {},
     "output_type": "execute_result"
    }
   ],
   "source": [
    "ones = np.ones(10)\n",
    "ones"
   ]
  },
  {
   "cell_type": "markdown",
   "id": "9b3cea01",
   "metadata": {},
   "source": [
    "#### Now, creating an array of a predefined size with a specified element"
   ]
  },
  {
   "cell_type": "code",
   "execution_count": 12,
   "id": "89857964",
   "metadata": {},
   "outputs": [
    {
     "data": {
      "text/plain": [
       "array([6, 6, 6])"
      ]
     },
     "execution_count": 12,
     "metadata": {},
     "output_type": "execute_result"
    }
   ],
   "source": [
    "arr = np.full(3, 6)\n",
    "arr"
   ]
  },
  {
   "cell_type": "code",
   "execution_count": 14,
   "id": "e673dada",
   "metadata": {},
   "outputs": [
    {
     "data": {
      "text/plain": [
       "array([5, 5, 5, 5, 5, 5, 5, 5, 5, 5])"
      ]
     },
     "execution_count": 14,
     "metadata": {},
     "output_type": "execute_result"
    }
   ],
   "source": [
    "arr = np.repeat(5, 10)\n",
    "arr"
   ]
  },
  {
   "cell_type": "markdown",
   "id": "06a805d9",
   "metadata": {},
   "source": [
    "#### repeat is actually more powerful than full as it can be used to create patterns"
   ]
  },
  {
   "cell_type": "code",
   "execution_count": 16,
   "id": "52305c2a",
   "metadata": {},
   "outputs": [
    {
     "data": {
      "text/plain": [
       "array([2, 2, 2, 2, 2, 2, 3, 3])"
      ]
     },
     "execution_count": 16,
     "metadata": {},
     "output_type": "execute_result"
    }
   ],
   "source": [
    "arr = np.repeat([2,3],[6,2])\n",
    "arr"
   ]
  },
  {
   "cell_type": "markdown",
   "id": "27ac4047",
   "metadata": {},
   "source": [
    "here, 2 is repeated six times and 3 is repeated two times"
   ]
  },
  {
   "cell_type": "markdown",
   "id": "526d62c2",
   "metadata": {},
   "source": [
    "### Accessing Elements"
   ]
  },
  {
   "cell_type": "code",
   "execution_count": 17,
   "id": "f5537c93",
   "metadata": {},
   "outputs": [],
   "source": [
    "arr = np.array([1,44,3,2,67,89])"
   ]
  },
  {
   "cell_type": "code",
   "execution_count": 23,
   "id": "fe83106a",
   "metadata": {},
   "outputs": [
    {
     "data": {
      "text/plain": [
       "array([67, 89,  3])"
      ]
     },
     "execution_count": 23,
     "metadata": {},
     "output_type": "execute_result"
    }
   ],
   "source": [
    "arr[[4,5,2]]"
   ]
  },
  {
   "cell_type": "code",
   "execution_count": 24,
   "id": "08f6a161",
   "metadata": {},
   "outputs": [
    {
     "data": {
      "text/plain": [
       "array([  1, 200,   3,   2,  67,  89])"
      ]
     },
     "execution_count": 24,
     "metadata": {},
     "output_type": "execute_result"
    }
   ],
   "source": [
    "arr[1] = 200\n",
    "arr"
   ]
  },
  {
   "cell_type": "markdown",
   "id": "57218ec0",
   "metadata": {},
   "source": [
    "### Range"
   ]
  },
  {
   "cell_type": "code",
   "execution_count": 25,
   "id": "19fe606b",
   "metadata": {},
   "outputs": [
    {
     "data": {
      "text/plain": [
       "array([0, 1, 2, 3, 4, 5, 6, 7, 8, 9])"
      ]
     },
     "execution_count": 25,
     "metadata": {},
     "output_type": "execute_result"
    }
   ],
   "source": [
    "arr = np.arange(10)\n",
    "arr"
   ]
  },
  {
   "cell_type": "code",
   "execution_count": 33,
   "id": "4e246456",
   "metadata": {},
   "outputs": [
    {
     "data": {
      "text/plain": [
       "array([0, 2, 4, 6, 8])"
      ]
     },
     "execution_count": 33,
     "metadata": {},
     "output_type": "execute_result"
    }
   ],
   "source": [
    "arr = np.arange(0,10,2)\n",
    "arr"
   ]
  },
  {
   "cell_type": "markdown",
   "id": "1caadfdb",
   "metadata": {},
   "source": [
    "#### The same thing can be done using linspace"
   ]
  },
  {
   "cell_type": "code",
   "execution_count": 34,
   "id": "e4d123c0",
   "metadata": {},
   "outputs": [
    {
     "data": {
      "text/plain": [
       "array([0. , 0.1, 0.2, 0.3, 0.4, 0.5, 0.6, 0.7, 0.8, 0.9, 1. ])"
      ]
     },
     "execution_count": 34,
     "metadata": {},
     "output_type": "execute_result"
    }
   ],
   "source": [
    "thresholds = np.linspace(0,1,11)\n",
    "thresholds"
   ]
  },
  {
   "cell_type": "markdown",
   "id": "de4cd313",
   "metadata": {},
   "source": [
    "######  Linspace takes in 3 parameters:\n",
    "       1. The starting number i.e 0\n",
    "       2. the ending number i.e 1\n",
    "       3. the length of the resulting array i.e 11"
   ]
  },
  {
   "cell_type": "markdown",
   "id": "bb5779ae",
   "metadata": {},
   "source": [
    "### Dtypes"
   ]
  },
  {
   "cell_type": "markdown",
   "id": "112cadc5",
   "metadata": {},
   "source": [
    "NumPy arrays must have all elements of the same type\n",
    "There are four broad categories of dtypes:\n",
    "\n",
    "Unsigned integers (uint) – integers that are always positive (or zero)\n",
    "\n",
    "Signed integers (int) – integers that can be positive and negative\n",
    "\n",
    "Floats (float) – real numbers\n",
    "\n",
    "Booleans (bool) – only True and False values\n"
   ]
  },
  {
   "cell_type": "code",
   "execution_count": 36,
   "id": "c5e45e06",
   "metadata": {},
   "outputs": [
    {
     "data": {
      "text/plain": [
       "array([1., 1., 1., 1.])"
      ]
     },
     "execution_count": 36,
     "metadata": {},
     "output_type": "execute_result"
    }
   ],
   "source": [
    "arr = np.ones(4)\n",
    "arr"
   ]
  },
  {
   "cell_type": "code",
   "execution_count": 38,
   "id": "cd8e3073",
   "metadata": {},
   "outputs": [
    {
     "data": {
      "text/plain": [
       "array([1, 1, 1, 1, 1, 1, 1, 1, 1, 1])"
      ]
     },
     "execution_count": 38,
     "metadata": {},
     "output_type": "execute_result"
    }
   ],
   "source": [
    "arr = np.ones(10, dtype= np.int32)\n",
    "arr"
   ]
  },
  {
   "cell_type": "markdown",
   "id": "e34a6e6a",
   "metadata": {},
   "source": [
    "## Two dimensional numpy arrays"
   ]
  },
  {
   "cell_type": "code",
   "execution_count": 41,
   "id": "ffdcf5c0",
   "metadata": {},
   "outputs": [
    {
     "data": {
      "text/plain": [
       "array([[0., 0.],\n",
       "       [0., 0.],\n",
       "       [0., 0.],\n",
       "       [0., 0.],\n",
       "       [0., 0.]], dtype=float32)"
      ]
     },
     "execution_count": 41,
     "metadata": {},
     "output_type": "execute_result"
    }
   ],
   "source": [
    "arr = np.zeros((5,2), dtype=np.float32)\n",
    "arr"
   ]
  },
  {
   "cell_type": "code",
   "execution_count": 51,
   "id": "402b5f24",
   "metadata": {},
   "outputs": [
    {
     "data": {
      "text/plain": [
       "(5, 2)"
      ]
     },
     "execution_count": 51,
     "metadata": {},
     "output_type": "execute_result"
    }
   ],
   "source": [
    "arr.shape"
   ]
  },
  {
   "cell_type": "markdown",
   "id": "cf82f2c3",
   "metadata": {},
   "source": [
    "\n",
    "\n",
    "\n",
    "\n",
    "\n",
    "    Converting a list of lists into a numpy array"
   ]
  },
  {
   "cell_type": "code",
   "execution_count": 65,
   "id": "ddbe52f5",
   "metadata": {},
   "outputs": [
    {
     "data": {
      "text/plain": [
       "array([[1, 2, 3],\n",
       "       [4, 5, 6],\n",
       "       [7, 8, 9]])"
      ]
     },
     "execution_count": 65,
     "metadata": {},
     "output_type": "execute_result"
    }
   ],
   "source": [
    "numbers = [\n",
    "    [1, 2, 3],\n",
    "    [4, 5, 6],\n",
    "    [7, 8, 9]\n",
    "]\n",
    "num = np.array(numbers)\n",
    "num"
   ]
  },
  {
   "cell_type": "markdown",
   "id": "5fd38d8c",
   "metadata": {},
   "source": [
    "#### accessing elements in a 2d array"
   ]
  },
  {
   "cell_type": "code",
   "execution_count": 84,
   "id": "34bf3797",
   "metadata": {},
   "outputs": [
    {
     "data": {
      "text/plain": [
       "8"
      ]
     },
     "execution_count": 84,
     "metadata": {},
     "output_type": "execute_result"
    }
   ],
   "source": [
    "(num[2,1])"
   ]
  },
  {
   "cell_type": "code",
   "execution_count": 60,
   "id": "2885f022",
   "metadata": {},
   "outputs": [
    {
     "data": {
      "text/plain": [
       "array([[555, 555, 555],\n",
       "       [  4,   5,   6],\n",
       "       [  7,   8,   9]])"
      ]
     },
     "execution_count": 60,
     "metadata": {},
     "output_type": "execute_result"
    }
   ],
   "source": [
    "num[0]= 555\n",
    "num"
   ]
  },
  {
   "cell_type": "markdown",
   "id": "2300aeb4",
   "metadata": {},
   "source": [
    "#####\n",
    "    Replacing an entire column of data"
   ]
  },
  {
   "cell_type": "code",
   "execution_count": 66,
   "id": "5991595b",
   "metadata": {},
   "outputs": [
    {
     "data": {
      "text/plain": [
       "array([[1, 2, 9],\n",
       "       [4, 5, 9],\n",
       "       [7, 8, 9]])"
      ]
     },
     "execution_count": 66,
     "metadata": {},
     "output_type": "execute_result"
    }
   ],
   "source": [
    "num[:,2]= 9\n",
    "num"
   ]
  },
  {
   "cell_type": "markdown",
   "id": "649bd111",
   "metadata": {},
   "source": [
    "## Randomly generated arrays"
   ]
  },
  {
   "cell_type": "markdown",
   "id": "18dd1c18",
   "metadata": {},
   "source": [
    "Creating a 3 x 3 array of random numbers uniformly distributed between 0 and 1"
   ]
  },
  {
   "cell_type": "code",
   "execution_count": 71,
   "id": "3325585a",
   "metadata": {},
   "outputs": [
    {
     "data": {
      "text/plain": [
       "array([[0.58905692, 0.62173856, 0.66540525],\n",
       "       [0.64096508, 0.25245455, 0.55671312],\n",
       "       [0.95648583, 0.50738939, 0.0985908 ]])"
      ]
     },
     "execution_count": 71,
     "metadata": {},
     "output_type": "execute_result"
    }
   ],
   "source": [
    "arr = np.random.rand(3,3)\n",
    "arr"
   ]
  },
  {
   "cell_type": "markdown",
   "id": "59a9a012",
   "metadata": {},
   "source": [
    "####    This random generator produces new random numbers when its called. If you want the result to be reproducible, use a seed"
   ]
  },
  {
   "cell_type": "code",
   "execution_count": 81,
   "id": "e0470333",
   "metadata": {},
   "outputs": [],
   "source": [
    "np.random.seed(6)\n",
    "arr = np.random.rand(5,2)"
   ]
  },
  {
   "cell_type": "code",
   "execution_count": 82,
   "id": "70c662f9",
   "metadata": {
    "scrolled": true
   },
   "outputs": [
    {
     "data": {
      "text/plain": [
       "array([[0.89286015, 0.33197981],\n",
       "       [0.82122912, 0.04169663],\n",
       "       [0.10765668, 0.59505206],\n",
       "       [0.52981736, 0.41880743],\n",
       "       [0.33540785, 0.62251943]])"
      ]
     },
     "execution_count": 82,
     "metadata": {},
     "output_type": "execute_result"
    }
   ],
   "source": [
    "arr"
   ]
  },
  {
   "cell_type": "markdown",
   "id": "5d8818e0",
   "metadata": {},
   "source": [
    "#### Now, using a standard normal distribution instead of uniform distribution"
   ]
  },
  {
   "cell_type": "code",
   "execution_count": 83,
   "id": "d24705ec",
   "metadata": {},
   "outputs": [
    {
     "data": {
      "text/plain": [
       "array([[68, 33],\n",
       "       [ 8,  2],\n",
       "       [76, 84],\n",
       "       [91, 31],\n",
       "       [66,  5]])"
      ]
     },
     "execution_count": 83,
     "metadata": {},
     "output_type": "execute_result"
    }
   ],
   "source": [
    "arr = np.random.randint(low=0, high=100, size=(5,2))\n",
    "arr"
   ]
  },
  {
   "cell_type": "markdown",
   "id": "95cca92f",
   "metadata": {},
   "source": [
    "###\n",
    "## Shuffling an array"
   ]
  },
  {
   "cell_type": "code",
   "execution_count": 85,
   "id": "268af48f",
   "metadata": {},
   "outputs": [
    {
     "name": "stdout",
     "output_type": "stream",
     "text": [
      "Before shuffle:  [0 1 2 3 4]\n",
      "After shuffle:  [4 0 1 3 2]\n"
     ]
    }
   ],
   "source": [
    "before = np.arange(5)\n",
    "print('Before shuffle: ', before)\n",
    "\n",
    "np.random.shuffle(before)\n",
    "print('After shuffle: ', before)"
   ]
  },
  {
   "cell_type": "markdown",
   "id": "7e5f7f2a",
   "metadata": {},
   "source": [
    "## Exponent, Logarithm and Square Root"
   ]
  },
  {
   "cell_type": "code",
   "execution_count": 86,
   "id": "ba07b282",
   "metadata": {},
   "outputs": [
    {
     "data": {
      "text/plain": [
       "array([0.44, 0.03, 0.55])"
      ]
     },
     "execution_count": 86,
     "metadata": {},
     "output_type": "execute_result"
    }
   ],
   "source": [
    "np.random.seed(2)\n",
    "pred = np.random.rand(3).round(2)\n",
    "pred"
   ]
  },
  {
   "cell_type": "code",
   "execution_count": 88,
   "id": "3385edb4",
   "metadata": {},
   "outputs": [
    {
     "data": {
      "text/plain": [
       "array([0.1936, 0.0009, 0.3025])"
      ]
     },
     "execution_count": 88,
     "metadata": {},
     "output_type": "execute_result"
    }
   ],
   "source": [
    "square = pred ** 2\n",
    "square"
   ]
  },
  {
   "cell_type": "code",
   "execution_count": 90,
   "id": "06e46d7a",
   "metadata": {},
   "outputs": [
    {
     "data": {
      "text/plain": [
       "array([1.55270722, 1.03045453, 1.73325302])"
      ]
     },
     "execution_count": 90,
     "metadata": {},
     "output_type": "execute_result"
    }
   ],
   "source": [
    "exp = np.exp(pred)\n",
    "exp"
   ]
  },
  {
   "cell_type": "code",
   "execution_count": 91,
   "id": "d7988ba7",
   "metadata": {},
   "outputs": [
    {
     "data": {
      "text/plain": [
       "array([-0.82098055, -3.5065579 , -0.597837  ])"
      ]
     },
     "execution_count": 91,
     "metadata": {},
     "output_type": "execute_result"
    }
   ],
   "source": [
    "log = np.log(pred)\n",
    "log"
   ]
  },
  {
   "cell_type": "code",
   "execution_count": 92,
   "id": "ad5cf705",
   "metadata": {},
   "outputs": [
    {
     "data": {
      "text/plain": [
       "array([0.66332496, 0.17320508, 0.74161985])"
      ]
     },
     "execution_count": 92,
     "metadata": {},
     "output_type": "execute_result"
    }
   ],
   "source": [
    "sqrt = np.sqrt(pred)\n",
    "sqrt"
   ]
  },
  {
   "cell_type": "markdown",
   "id": "7f1174c0",
   "metadata": {},
   "source": [
    "\n",
    "## Element wise Boolean Operations"
   ]
  },
  {
   "cell_type": "code",
   "execution_count": 99,
   "id": "f7d64135",
   "metadata": {},
   "outputs": [
    {
     "data": {
      "text/plain": [
       "array([5, 5, 6, 8, 4, 7])"
      ]
     },
     "execution_count": 99,
     "metadata": {},
     "output_type": "execute_result"
    }
   ],
   "source": [
    "arr = np.random.randint(1,10,6)\n",
    "arr"
   ]
  },
  {
   "cell_type": "code",
   "execution_count": 100,
   "id": "603c7123",
   "metadata": {},
   "outputs": [
    {
     "data": {
      "text/plain": [
       "array([False, False,  True,  True, False,  True])"
      ]
     },
     "execution_count": 100,
     "metadata": {},
     "output_type": "execute_result"
    }
   ],
   "source": [
    "arr >5"
   ]
  },
  {
   "cell_type": "markdown",
   "id": "4aa3f17f",
   "metadata": {},
   "source": [
    "###\n",
    "## Summarizing operations"
   ]
  },
  {
   "cell_type": "code",
   "execution_count": 102,
   "id": "6c2d634b",
   "metadata": {},
   "outputs": [
    {
     "name": "stdout",
     "output_type": "stream",
     "text": [
      "Pred:  [0.85 0.49 0.85]\n",
      "Sum:  2.19\n"
     ]
    }
   ],
   "source": [
    "pred = np.random.rand(3).round(2)\n",
    "print('Pred: ', pred)\n",
    "\n",
    "pred_sum = pred.sum()\n",
    "print('Sum: ', pred_sum)"
   ]
  },
  {
   "cell_type": "code",
   "execution_count": 106,
   "id": "68da97c9",
   "metadata": {},
   "outputs": [
    {
     "name": "stdout",
     "output_type": "stream",
     "text": [
      "min:  0.49\n",
      "max:  0.85\n",
      "mean:  0.73\n"
     ]
    }
   ],
   "source": [
    "print('min: ', pred.min())\n",
    "print('max: ', pred.max())\n",
    "print('mean: ', pred.mean())"
   ]
  },
  {
   "cell_type": "markdown",
   "id": "769b7f7d",
   "metadata": {},
   "source": [
    "#### summarizing operations for 2d arrays"
   ]
  },
  {
   "cell_type": "code",
   "execution_count": 109,
   "id": "c8b9fcda",
   "metadata": {},
   "outputs": [
    {
     "data": {
      "text/plain": [
       "array([[3, 1, 5],\n",
       "       [3, 5, 2],\n",
       "       [8, 9, 3],\n",
       "       [9, 8, 2]])"
      ]
     },
     "execution_count": 109,
     "metadata": {},
     "output_type": "execute_result"
    }
   ],
   "source": [
    "matrix = np.random.randint(1,10, size=(4,3))\n",
    "matrix"
   ]
  },
  {
   "cell_type": "code",
   "execution_count": 110,
   "id": "859e5f90",
   "metadata": {},
   "outputs": [
    {
     "data": {
      "text/plain": [
       "9"
      ]
     },
     "execution_count": 110,
     "metadata": {},
     "output_type": "execute_result"
    }
   ],
   "source": [
    "matrix.max()"
   ]
  },
  {
   "cell_type": "markdown",
   "id": "9fe7ceb2",
   "metadata": {},
   "source": [
    "Applying summarizing operations for row and columns separately using axis. This prints the max element of each row"
   ]
  },
  {
   "cell_type": "code",
   "execution_count": 113,
   "id": "92c64dd4",
   "metadata": {},
   "outputs": [
    {
     "data": {
      "text/plain": [
       "array([5, 5, 9, 9])"
      ]
     },
     "execution_count": 113,
     "metadata": {},
     "output_type": "execute_result"
    }
   ],
   "source": [
    "matrix.max(axis= 1)"
   ]
  },
  {
   "cell_type": "markdown",
   "id": "8b1dcfad",
   "metadata": {},
   "source": [
    "To find the max element for each column"
   ]
  },
  {
   "cell_type": "code",
   "execution_count": 112,
   "id": "59705320",
   "metadata": {},
   "outputs": [
    {
     "data": {
      "text/plain": [
       "array([9, 9, 5])"
      ]
     },
     "execution_count": 112,
     "metadata": {},
     "output_type": "execute_result"
    }
   ],
   "source": [
    "matrix.max(axis=0)"
   ]
  },
  {
   "cell_type": "markdown",
   "id": "3b36e28f",
   "metadata": {},
   "source": [
    "###\n",
    "# Sorting\n"
   ]
  },
  {
   "cell_type": "code",
   "execution_count": 121,
   "id": "21d32c89",
   "metadata": {},
   "outputs": [
    {
     "data": {
      "text/plain": [
       "array([1, 1, 3, 9])"
      ]
     },
     "execution_count": 121,
     "metadata": {},
     "output_type": "execute_result"
    }
   ],
   "source": [
    "rand = np.random.randint(1, 10, 4)\n",
    "rand"
   ]
  },
  {
   "cell_type": "code",
   "execution_count": 117,
   "id": "5ef82fd2",
   "metadata": {},
   "outputs": [
    {
     "data": {
      "text/plain": [
       "array([4, 6, 7, 9])"
      ]
     },
     "execution_count": 117,
     "metadata": {},
     "output_type": "execute_result"
    }
   ],
   "source": [
    "np.sort(rand)"
   ]
  },
  {
   "cell_type": "markdown",
   "id": "0cf26bbf",
   "metadata": {},
   "source": [
    "The sort operation creates a copy of the array and sorts it. So, the original array remains as it is. In place sorting can be done invoking the sort function on the array itself."
   ]
  },
  {
   "cell_type": "code",
   "execution_count": 119,
   "id": "5e1bce6b",
   "metadata": {},
   "outputs": [
    {
     "data": {
      "text/plain": [
       "array([4, 6, 7, 9])"
      ]
     },
     "execution_count": 119,
     "metadata": {},
     "output_type": "execute_result"
    }
   ],
   "source": [
    "rand.sort()\n",
    "rand"
   ]
  },
  {
   "cell_type": "markdown",
   "id": "f30fc9c7",
   "metadata": {},
   "source": [
    "### Argsort\n",
    "Instead of sorting an array, it return the indices of the array in the sorted order."
   ]
  },
  {
   "cell_type": "code",
   "execution_count": 124,
   "id": "7d511984",
   "metadata": {},
   "outputs": [
    {
     "data": {
      "text/plain": [
       "array([0.81, 0.95, 0.82, 0.52, 0.22, 0.75])"
      ]
     },
     "execution_count": 124,
     "metadata": {},
     "output_type": "execute_result"
    }
   ],
   "source": [
    "rand = np.random.rand(6).round(2)\n",
    "rand"
   ]
  },
  {
   "cell_type": "code",
   "execution_count": 126,
   "id": "722b0dba",
   "metadata": {},
   "outputs": [
    {
     "data": {
      "text/plain": [
       "array([4, 3, 5, 0, 2, 1], dtype=int64)"
      ]
     },
     "execution_count": 126,
     "metadata": {},
     "output_type": "execute_result"
    }
   ],
   "source": [
    "idx = rand.argsort()\n",
    "idx"
   ]
  },
  {
   "cell_type": "code",
   "execution_count": 127,
   "id": "f8f923a9",
   "metadata": {},
   "outputs": [
    {
     "data": {
      "text/plain": [
       "array([0.22, 0.52, 0.75, 0.81, 0.82, 0.95])"
      ]
     },
     "execution_count": 127,
     "metadata": {},
     "output_type": "execute_result"
    }
   ],
   "source": [
    "rand[idx]"
   ]
  },
  {
   "attachments": {
    "image.png": {
     "image/png": "[encoded data removed]"
    }
   },
   "cell_type": "markdown",
   "id": "ef30b91f",
   "metadata": {},
   "source": [
    "The function sort sorts the array, while argsort produces an array of indices that sort the array:\n",
    "![image.png](attachment:image.png)"
   ]
  },
  {
   "cell_type": "markdown",
   "id": "3dd3ac2d",
   "metadata": {},
   "source": [
    "###\n",
    "## Reshaping and Combining"
   ]
  },
  {
   "cell_type": "markdown",
   "id": "625ddc12",
   "metadata": {},
   "source": [
    "For an 1d array, its shape is its length whereas for 2d array, its shape is the number of rows and columns it has."
   ]
  },
  {
   "cell_type": "code",
   "execution_count": 142,
   "id": "33aae3bf",
   "metadata": {},
   "outputs": [
    {
     "name": "stdout",
     "output_type": "stream",
     "text": [
      "1d array shape:  (12,)\n",
      "2d array shape:  (2, 5)\n"
     ]
    }
   ],
   "source": [
    "arr1 = np.arange(12)\n",
    "print('1d array shape: ',arr1.shape)\n",
    "\n",
    "arr2 = np.random.randint(100, size=(2,5))\n",
    "print('2d array shape: ', arr2.shape)"
   ]
  },
  {
   "cell_type": "markdown",
   "id": "a5b5fdf0",
   "metadata": {},
   "source": [
    "#### Reshaping arr1. The total number of elements after reshaping should be the same as the number of elements in the original array."
   ]
  },
  {
   "cell_type": "code",
   "execution_count": 143,
   "id": "ca4aa1e3",
   "metadata": {},
   "outputs": [
    {
     "data": {
      "text/plain": [
       "array([[ 0,  1,  2,  3,  4,  5],\n",
       "       [ 6,  7,  8,  9, 10, 11]])"
      ]
     },
     "execution_count": 143,
     "metadata": {},
     "output_type": "execute_result"
    }
   ],
   "source": [
    "arr1.reshape(2,6)"
   ]
  },
  {
   "cell_type": "markdown",
   "id": "c53eeca6",
   "metadata": {},
   "source": [
    "### Concatenation"
   ]
  },
  {
   "cell_type": "code",
   "execution_count": 147,
   "id": "73ee807c",
   "metadata": {},
   "outputs": [
    {
     "name": "stdout",
     "output_type": "stream",
     "text": [
      "Vector: [0 1 2]\n",
      "Matrix: [[0 1]\n",
      " [2 3]\n",
      " [4 5]]\n"
     ]
    }
   ],
   "source": [
    "vec = np.arange(3)\n",
    "mat = np.arange(6).reshape(3,2)\n",
    "print('Vector:' ,vec)\n",
    "print('Matrix:', mat)"
   ]
  },
  {
   "cell_type": "code",
   "execution_count": 148,
   "id": "ac7346fb",
   "metadata": {},
   "outputs": [
    {
     "data": {
      "text/plain": [
       "array([0, 1, 2, 0, 1, 2])"
      ]
     },
     "execution_count": 148,
     "metadata": {},
     "output_type": "execute_result"
    }
   ],
   "source": [
    "np.concatenate([vec, vec])"
   ]
  },
  {
   "cell_type": "code",
   "execution_count": 152,
   "id": "e7069c61",
   "metadata": {},
   "outputs": [
    {
     "data": {
      "text/plain": [
       "array([[0, 1],\n",
       "       [2, 3],\n",
       "       [4, 5],\n",
       "       [0, 1],\n",
       "       [2, 3],\n",
       "       [4, 5]])"
      ]
     },
     "execution_count": 152,
     "metadata": {},
     "output_type": "execute_result"
    }
   ],
   "source": [
    "np.concatenate([mat, mat])"
   ]
  },
  {
   "cell_type": "markdown",
   "id": "97d4b913",
   "metadata": {},
   "source": [
    "####  Horizontal stacking of arrays"
   ]
  },
  {
   "cell_type": "code",
   "execution_count": 149,
   "id": "646e8c23",
   "metadata": {},
   "outputs": [
    {
     "data": {
      "text/plain": [
       "array([0, 1, 2, 0, 1, 2])"
      ]
     },
     "execution_count": 149,
     "metadata": {},
     "output_type": "execute_result"
    }
   ],
   "source": [
    "np.hstack([vec,vec])"
   ]
  },
  {
   "cell_type": "code",
   "execution_count": 150,
   "id": "4d0e7a22",
   "metadata": {},
   "outputs": [
    {
     "data": {
      "text/plain": [
       "array([[0, 1, 0, 1],\n",
       "       [2, 3, 2, 3],\n",
       "       [4, 5, 4, 5]])"
      ]
     },
     "execution_count": 150,
     "metadata": {},
     "output_type": "execute_result"
    }
   ],
   "source": [
    "np.hstack([mat,mat])"
   ]
  },
  {
   "cell_type": "markdown",
   "id": "6d8fc24a",
   "metadata": {},
   "source": [
    "#### Column Stacking\n",
    "Used to concatenate vectors and matrices"
   ]
  },
  {
   "cell_type": "code",
   "execution_count": 154,
   "id": "6c03e46e",
   "metadata": {},
   "outputs": [
    {
     "data": {
      "text/plain": [
       "array([[0, 0, 1],\n",
       "       [1, 2, 3],\n",
       "       [2, 4, 5]])"
      ]
     },
     "execution_count": 154,
     "metadata": {},
     "output_type": "execute_result"
    }
   ],
   "source": [
    "np.column_stack([vec,mat])"
   ]
  },
  {
   "cell_type": "markdown",
   "id": "8381a272",
   "metadata": {},
   "source": [
    "#### Vertical Stacking"
   ]
  },
  {
   "cell_type": "code",
   "execution_count": 156,
   "id": "04280b64",
   "metadata": {},
   "outputs": [
    {
     "data": {
      "text/plain": [
       "array([[0, 1],\n",
       "       [2, 3],\n",
       "       [4, 5],\n",
       "       [0, 1],\n",
       "       [2, 3],\n",
       "       [4, 5]])"
      ]
     },
     "execution_count": 156,
     "metadata": {},
     "output_type": "execute_result"
    }
   ],
   "source": [
    "np.vstack([mat,mat])"
   ]
  },
  {
   "cell_type": "code",
   "execution_count": 157,
   "id": "7f6584fe",
   "metadata": {},
   "outputs": [
    {
     "data": {
      "text/plain": [
       "array([[0, 1, 2],\n",
       "       [0, 1, 2]])"
      ]
     },
     "execution_count": 157,
     "metadata": {},
     "output_type": "execute_result"
    }
   ],
   "source": [
    "np.vstack([vec, vec])"
   ]
  },
  {
   "cell_type": "markdown",
   "id": "94951909",
   "metadata": {},
   "source": [
    "##### It can also be used to stack a vector and a matrix"
   ]
  },
  {
   "cell_type": "code",
   "execution_count": 158,
   "id": "34a508bd",
   "metadata": {},
   "outputs": [
    {
     "data": {
      "text/plain": [
       "array([[0, 1, 2],\n",
       "       [0, 2, 4],\n",
       "       [1, 3, 5]])"
      ]
     },
     "execution_count": 158,
     "metadata": {},
     "output_type": "execute_result"
    }
   ],
   "source": [
    "np.vstack([vec, mat.T])"
   ]
  },
  {
   "cell_type": "markdown",
   "id": "8a0a88fc",
   "metadata": {},
   "source": [
    "###\n",
    "### Slicing and Filtering"
   ]
  },
  {
   "cell_type": "code",
   "execution_count": 161,
   "id": "f586cfb6",
   "metadata": {},
   "outputs": [
    {
     "data": {
      "text/plain": [
       "array([[ 0,  1,  2],\n",
       "       [ 3,  4,  5],\n",
       "       [ 6,  7,  8],\n",
       "       [ 9, 10, 11],\n",
       "       [12, 13, 14]])"
      ]
     },
     "execution_count": 161,
     "metadata": {},
     "output_type": "execute_result"
    }
   ],
   "source": [
    "mat = np.arange(15).reshape(5, 3)\n",
    "mat"
   ]
  },
  {
   "cell_type": "code",
   "execution_count": 162,
   "id": "60666650",
   "metadata": {},
   "outputs": [
    {
     "data": {
      "text/plain": [
       "array([[0, 1, 2],\n",
       "       [3, 4, 5],\n",
       "       [6, 7, 8]])"
      ]
     },
     "execution_count": 162,
     "metadata": {},
     "output_type": "execute_result"
    }
   ],
   "source": [
    "# Select only the first three rows\n",
    "mat[:3]"
   ]
  },
  {
   "cell_type": "code",
   "execution_count": 165,
   "id": "3c743059",
   "metadata": {},
   "outputs": [
    {
     "data": {
      "text/plain": [
       "array([[ 0,  1],\n",
       "       [ 3,  4],\n",
       "       [ 6,  7],\n",
       "       [ 9, 10],\n",
       "       [12, 13]])"
      ]
     },
     "execution_count": 165,
     "metadata": {},
     "output_type": "execute_result"
    }
   ],
   "source": [
    "#Select only the first two columns\n",
    "mat[:, :2]"
   ]
  },
  {
   "cell_type": "code",
   "execution_count": 166,
   "id": "a6283c37",
   "metadata": {},
   "outputs": [
    {
     "data": {
      "text/plain": [
       "array([[3, 4],\n",
       "       [6, 7]])"
      ]
     },
     "execution_count": 166,
     "metadata": {},
     "output_type": "execute_result"
    }
   ],
   "source": [
    "# select the row 1 and 2, and the first two columns\n",
    "mat[1:3,:2]"
   ]
  },
  {
   "cell_type": "code",
   "execution_count": 167,
   "id": "ccd0564e",
   "metadata": {},
   "outputs": [
    {
     "data": {
      "text/plain": [
       "array([[ 9, 10, 11],\n",
       "       [ 0,  1,  2],\n",
       "       [ 3,  4,  5]])"
      ]
     },
     "execution_count": 167,
     "metadata": {},
     "output_type": "execute_result"
    }
   ],
   "source": [
    "# Selecting only specific rows and columns\n",
    "mat[[3,0,1]]"
   ]
  },
  {
   "cell_type": "markdown",
   "id": "a120af78",
   "metadata": {},
   "source": [
    "### Binary Masking\n",
    "It can be used to directly select some elements without having to specify the indicies as shown above"
   ]
  },
  {
   "cell_type": "code",
   "execution_count": 172,
   "id": "31471ae4",
   "metadata": {},
   "outputs": [
    {
     "data": {
      "text/plain": [
       "array([[1, 5, 7, 4],\n",
       "       [2, 9, 6, 6],\n",
       "       [5, 3, 8, 9],\n",
       "       [8, 4, 5, 9]])"
      ]
     },
     "execution_count": 172,
     "metadata": {},
     "output_type": "execute_result"
    }
   ],
   "source": [
    "mat = np.random.randint(1,10,16).reshape(4,4)\n",
    "mat"
   ]
  },
  {
   "cell_type": "markdown",
   "id": "9b316ba3",
   "metadata": {},
   "source": [
    "#### choosing rows where the first element of a row is an odd number."
   ]
  },
  {
   "cell_type": "code",
   "execution_count": 174,
   "id": "cf41ed91",
   "metadata": {},
   "outputs": [
    {
     "data": {
      "text/plain": [
       "array([ True, False,  True, False])"
      ]
     },
     "execution_count": 174,
     "metadata": {},
     "output_type": "execute_result"
    }
   ],
   "source": [
    "mat[:,0] %2 == 1"
   ]
  },
  {
   "cell_type": "code",
   "execution_count": 176,
   "id": "b6002eff",
   "metadata": {},
   "outputs": [
    {
     "data": {
      "text/plain": [
       "array([[1, 5, 7, 4],\n",
       "       [5, 3, 8, 9]])"
      ]
     },
     "execution_count": 176,
     "metadata": {},
     "output_type": "execute_result"
    }
   ],
   "source": [
    "# Now, the above expression can be used to select rows only where the expression is True\n",
    "mat[mat[:,0] % 2 == 1]"
   ]
  },
  {
   "cell_type": "code",
   "execution_count": null,
   "id": "c8a6eeee",
   "metadata": {},
   "outputs": [],
   "source": []
  }
 ],
 "metadata": {
  "kernelspec": {
   "display_name": "Python 3 (ipykernel)",
   "language": "python",
   "name": "python3"
  },
  "language_info": {
   "codemirror_mode": {
    "name": "ipython",
    "version": 3
   },
   "file_extension": ".py",
   "mimetype": "text/x-python",
   "name": "python",
   "nbconvert_exporter": "python",
   "pygments_lexer": "ipython3",
   "version": "3.10.10"
  }
 },
 "nbformat": 4,
 "nbformat_minor": 5
}
