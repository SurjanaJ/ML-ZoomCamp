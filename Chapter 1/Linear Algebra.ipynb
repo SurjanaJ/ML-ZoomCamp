{
 "cells": [
  {
   "cell_type": "code",
   "execution_count": 1,
   "id": "cba48eec",
   "metadata": {},
   "outputs": [],
   "source": [
    "import numpy as np"
   ]
  },
  {
   "cell_type": "markdown",
   "id": "da66fdc2",
   "metadata": {},
   "source": [
    "# Vector Multiplication"
   ]
  },
  {
   "cell_type": "code",
   "execution_count": 10,
   "id": "4a03f075",
   "metadata": {},
   "outputs": [],
   "source": [
    "u = np.random.randint(1,5,4)\n",
    "v = np.random.randint(2,7,4)"
   ]
  },
  {
   "cell_type": "code",
   "execution_count": 13,
   "id": "c462bbc2",
   "metadata": {},
   "outputs": [
    {
     "data": {
      "text/plain": [
       "array([2, 2, 4, 1])"
      ]
     },
     "execution_count": 13,
     "metadata": {},
     "output_type": "execute_result"
    }
   ],
   "source": [
    "u"
   ]
  },
  {
   "cell_type": "code",
   "execution_count": 16,
   "id": "bfdc36ba",
   "metadata": {},
   "outputs": [],
   "source": [
    "def vector_vector_multiplication(u, v):\n",
    "    assert u.shape[0] == v.shape[0]\n",
    "    \n",
    "    n = u.shape[0]\n",
    "    result = 0.0\n",
    "    for i in range(n):\n",
    "        result = result + u[i] *v[i]\n",
    "    print(result)"
   ]
  },
  {
   "cell_type": "code",
   "execution_count": 17,
   "id": "d52f0e7f",
   "metadata": {},
   "outputs": [
    {
     "data": {
      "text/plain": [
       "array([ 8, 12, 24,  4])"
      ]
     },
     "execution_count": 17,
     "metadata": {},
     "output_type": "execute_result"
    }
   ],
   "source": [
    "u * v"
   ]
  },
  {
   "cell_type": "code",
   "execution_count": 18,
   "id": "039db829",
   "metadata": {},
   "outputs": [
    {
     "name": "stdout",
     "output_type": "stream",
     "text": [
      "48.0\n"
     ]
    }
   ],
   "source": [
    "vector_vector_multiplication(u,v)"
   ]
  },
  {
   "cell_type": "code",
   "execution_count": 19,
   "id": "36a24983",
   "metadata": {},
   "outputs": [
    {
     "data": {
      "text/plain": [
       "48"
      ]
     },
     "execution_count": 19,
     "metadata": {},
     "output_type": "execute_result"
    }
   ],
   "source": [
    "u.dot(v)"
   ]
  },
  {
   "cell_type": "markdown",
   "id": "e3d3eb5c",
   "metadata": {},
   "source": [
    "# Matrix-Vector Multiplication"
   ]
  },
  {
   "cell_type": "code",
   "execution_count": 58,
   "id": "7a626d12",
   "metadata": {},
   "outputs": [
    {
     "data": {
      "text/plain": [
       "(3, 4)"
      ]
     },
     "execution_count": 58,
     "metadata": {},
     "output_type": "execute_result"
    }
   ],
   "source": [
    "u = np.random.randint(1,10, 12).reshape((3,4))\n",
    "u.shape"
   ]
  },
  {
   "cell_type": "code",
   "execution_count": 49,
   "id": "0135f233",
   "metadata": {},
   "outputs": [
    {
     "data": {
      "text/plain": [
       "array([[4],\n",
       "       [2],\n",
       "       [3],\n",
       "       [4]])"
      ]
     },
     "execution_count": 49,
     "metadata": {},
     "output_type": "execute_result"
    }
   ],
   "source": [
    "v = np.random.randint(2,6,4).reshape(4,1)\n",
    "v"
   ]
  },
  {
   "cell_type": "code",
   "execution_count": 61,
   "id": "69cb00a6",
   "metadata": {},
   "outputs": [],
   "source": [
    "def m_v_multiplication(u,v):\n",
    "    assert u.shape[1] == v.shape[0]\n",
    "    n = u.shape[0]\n",
    "    result = np.zeros(n)\n",
    "    \n",
    "    for i in range(n):\n",
    "        result[i] = vector_vector_multiplication(u[i],v)\n",
    "    print(result)"
   ]
  },
  {
   "cell_type": "code",
   "execution_count": 62,
   "id": "f18fdb9e",
   "metadata": {},
   "outputs": [
    {
     "name": "stdout",
     "output_type": "stream",
     "text": [
      "[50.]\n",
      "[61.]\n",
      "[75.]\n",
      "[nan nan nan]\n"
     ]
    }
   ],
   "source": [
    "m_v_multiplication(u,v)"
   ]
  },
  {
   "cell_type": "code",
   "execution_count": 57,
   "id": "3a2ff0c2",
   "metadata": {},
   "outputs": [
    {
     "data": {
      "text/plain": [
       "array([[48],\n",
       "       [46],\n",
       "       [54]])"
      ]
     },
     "execution_count": 57,
     "metadata": {},
     "output_type": "execute_result"
    }
   ],
   "source": [
    "u.dot(v)"
   ]
  },
  {
   "cell_type": "markdown",
   "id": "b53e5c82",
   "metadata": {},
   "source": [
    "# Matrix-Matrix Multiplication"
   ]
  },
  {
   "cell_type": "code",
   "execution_count": 63,
   "id": "cf305073",
   "metadata": {},
   "outputs": [],
   "source": [
    "def matrix_matrix_multiplication(u,v):\n",
    "    assert u.shape[1] == v.shape[0]\n",
    "    \n",
    "    num_rows= u.shape[0]\n",
    "    num_cols = v.shape[1]\n",
    "    result = np.zeros((num_rows * num_cols))\n",
    "    \n",
    "    for i in range(num_cols):\n",
    "        vi = v[:,i]\n",
    "        uvi = m_v_multiplication(u,vi)\n",
    "        result[]"
   ]
  }
 ],
 "metadata": {
  "kernelspec": {
   "display_name": "Python 3 (ipykernel)",
   "language": "python",
   "name": "python3"
  },
  "language_info": {
   "codemirror_mode": {
    "name": "ipython",
    "version": 3
   },
   "file_extension": ".py",
   "mimetype": "text/x-python",
   "name": "python",
   "nbconvert_exporter": "python",
   "pygments_lexer": "ipython3",
   "version": "3.10.10"
  }
 },
 "nbformat": 4,
 "nbformat_minor": 5
}
